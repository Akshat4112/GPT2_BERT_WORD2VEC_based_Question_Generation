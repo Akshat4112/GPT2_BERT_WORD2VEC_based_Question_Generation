{
 "cells": [
  {
   "cell_type": "markdown",
   "metadata": {},
   "source": [
    "Install required libraries"
   ]
  },
  {
   "cell_type": "code",
   "execution_count": 4,
   "metadata": {},
   "outputs": [
    {
     "name": "stdout",
     "output_type": "stream",
     "text": [
      "Processing /home/ec2-user/.cache/pip/wheels/4d/56/3b/1ee113eb85c8f4b96a5479a61ab2d8de1cf53682c3cf507166/benepar-0.1.2-cp36-cp36m-linux_x86_64.whl\n",
      "Requirement already satisfied: numpy in /home/ec2-user/anaconda3/envs/tensorflow_p36/lib/python3.6/site-packages (from benepar==0.1.2) (1.18.1)\n",
      "Requirement already satisfied: nltk>=3.2 in /home/ec2-user/anaconda3/envs/tensorflow_p36/lib/python3.6/site-packages (from benepar==0.1.2) (3.4.5)\n",
      "Requirement already satisfied: cython in /home/ec2-user/anaconda3/envs/tensorflow_p36/lib/python3.6/site-packages (from benepar==0.1.2) (0.29.15)\n",
      "Requirement already satisfied: six in /home/ec2-user/anaconda3/envs/tensorflow_p36/lib/python3.6/site-packages (from nltk>=3.2->benepar==0.1.2) (1.14.0)\n",
      "Installing collected packages: benepar\n",
      "Successfully installed benepar-0.1.2\n",
      "\u001b[33mWARNING: You are using pip version 20.0.2; however, version 20.2.4 is available.\n",
      "You should consider upgrading via the '/home/ec2-user/anaconda3/envs/tensorflow_p36/bin/python -m pip install --upgrade pip' command.\u001b[0m\n",
      "Processing /home/ec2-user/.cache/pip/wheels/7d/14/7e/4f3cfa624486ae514160500689920841d687c282f66f6b5c78/summa-1.2.0-py3-none-any.whl\n",
      "Requirement already satisfied: scipy>=0.19 in /home/ec2-user/anaconda3/envs/tensorflow_p36/lib/python3.6/site-packages (from summa) (1.4.1)\n",
      "Requirement already satisfied: numpy>=1.13.3 in /home/ec2-user/anaconda3/envs/tensorflow_p36/lib/python3.6/site-packages (from scipy>=0.19->summa) (1.18.1)\n",
      "Installing collected packages: summa\n",
      "Successfully installed summa-1.2.0\n",
      "\u001b[33mWARNING: You are using pip version 20.0.2; however, version 20.2.4 is available.\n",
      "You should consider upgrading via the '/home/ec2-user/anaconda3/envs/tensorflow_p36/bin/python -m pip install --upgrade pip' command.\u001b[0m\n",
      "Requirement already satisfied: nltk==3.4.5 in /home/ec2-user/anaconda3/envs/tensorflow_p36/lib/python3.6/site-packages (3.4.5)\n",
      "Requirement already satisfied: six in /home/ec2-user/anaconda3/envs/tensorflow_p36/lib/python3.6/site-packages (from nltk==3.4.5) (1.14.0)\n",
      "\u001b[33mWARNING: You are using pip version 20.0.2; however, version 20.2.4 is available.\n",
      "You should consider upgrading via the '/home/ec2-user/anaconda3/envs/tensorflow_p36/bin/python -m pip install --upgrade pip' command.\u001b[0m\n",
      "Collecting spacy==2.1.0\n",
      "  Using cached spacy-2.1.0-cp36-cp36m-manylinux1_x86_64.whl (27.7 MB)\n",
      "Collecting srsly<1.1.0,>=0.0.5\n",
      "  Using cached srsly-1.0.3-cp36-cp36m-manylinux2014_x86_64.whl (294 kB)\n",
      "Requirement already satisfied: numpy>=1.15.0 in /home/ec2-user/anaconda3/envs/tensorflow_p36/lib/python3.6/site-packages (from spacy==2.1.0) (1.18.1)\n",
      "Collecting plac<1.0.0,>=0.9.6\n",
      "  Using cached plac-0.9.6-py2.py3-none-any.whl (20 kB)\n",
      "Requirement already satisfied: requests<3.0.0,>=2.13.0 in /home/ec2-user/anaconda3/envs/tensorflow_p36/lib/python3.6/site-packages (from spacy==2.1.0) (2.22.0)\n",
      "Collecting jsonschema<3.0.0,>=2.6.0\n",
      "  Using cached jsonschema-2.6.0-py2.py3-none-any.whl (39 kB)\n",
      "Collecting blis<0.3.0,>=0.2.2\n",
      "  Using cached blis-0.2.4-cp36-cp36m-manylinux1_x86_64.whl (3.2 MB)\n",
      "Collecting cymem<2.1.0,>=2.0.2\n",
      "  Using cached cymem-2.0.4-cp36-cp36m-manylinux2014_x86_64.whl (35 kB)\n",
      "Collecting wasabi<1.1.0,>=0.0.12\n",
      "  Using cached wasabi-0.8.0-py3-none-any.whl (23 kB)\n",
      "Collecting murmurhash<1.1.0,>=0.28.0\n",
      "  Using cached murmurhash-1.0.4-cp36-cp36m-manylinux2014_x86_64.whl (20 kB)\n",
      "Collecting preshed<2.1.0,>=2.0.1\n",
      "  Using cached preshed-2.0.1-cp36-cp36m-manylinux1_x86_64.whl (83 kB)\n",
      "Collecting thinc<7.1.0,>=7.0.2\n",
      "  Using cached thinc-7.0.8-cp36-cp36m-manylinux1_x86_64.whl (2.1 MB)\n",
      "Requirement already satisfied: idna<2.9,>=2.5 in /home/ec2-user/anaconda3/envs/tensorflow_p36/lib/python3.6/site-packages (from requests<3.0.0,>=2.13.0->spacy==2.1.0) (2.8)\n",
      "Requirement already satisfied: certifi>=2017.4.17 in /home/ec2-user/anaconda3/envs/tensorflow_p36/lib/python3.6/site-packages (from requests<3.0.0,>=2.13.0->spacy==2.1.0) (2020.6.20)\n",
      "Requirement already satisfied: chardet<3.1.0,>=3.0.2 in /home/ec2-user/anaconda3/envs/tensorflow_p36/lib/python3.6/site-packages (from requests<3.0.0,>=2.13.0->spacy==2.1.0) (3.0.4)\n",
      "Requirement already satisfied: urllib3!=1.25.0,!=1.25.1,<1.26,>=1.21.1 in /home/ec2-user/anaconda3/envs/tensorflow_p36/lib/python3.6/site-packages (from requests<3.0.0,>=2.13.0->spacy==2.1.0) (1.25.10)\n",
      "Requirement already satisfied: tqdm<5.0.0,>=4.10.0 in /home/ec2-user/anaconda3/envs/tensorflow_p36/lib/python3.6/site-packages (from thinc<7.1.0,>=7.0.2->spacy==2.1.0) (4.42.1)\n",
      "\u001b[31mERROR: jupyterlab-server 1.0.6 has requirement jsonschema>=3.0.1, but you'll have jsonschema 2.6.0 which is incompatible.\u001b[0m\n",
      "Installing collected packages: srsly, plac, jsonschema, blis, cymem, wasabi, murmurhash, preshed, thinc, spacy\n",
      "  Attempting uninstall: jsonschema\n",
      "    Found existing installation: jsonschema 3.2.0\n",
      "    Uninstalling jsonschema-3.2.0:\n",
      "      Successfully uninstalled jsonschema-3.2.0\n",
      "Successfully installed blis-0.2.4 cymem-2.0.4 jsonschema-2.6.0 murmurhash-1.0.4 plac-0.9.6 preshed-2.0.1 spacy-2.1.0 srsly-1.0.3 thinc-7.0.8 wasabi-0.8.0\n",
      "\u001b[33mWARNING: You are using pip version 20.0.2; however, version 20.2.4 is available.\n",
      "You should consider upgrading via the '/home/ec2-user/anaconda3/envs/tensorflow_p36/bin/python -m pip install --upgrade pip' command.\u001b[0m\n",
      "Collecting en_core_web_sm==2.1.0\n",
      "  Downloading https://github.com/explosion/spacy-models/releases/download/en_core_web_sm-2.1.0/en_core_web_sm-2.1.0.tar.gz (11.1 MB)\n",
      "\u001b[K     |████████████████████████████████| 11.1 MB 4.3 MB/s eta 0:00:01\n",
      "\u001b[?25hBuilding wheels for collected packages: en-core-web-sm\n",
      "  Building wheel for en-core-web-sm (setup.py) ... \u001b[?25ldone\n",
      "\u001b[?25h  Created wheel for en-core-web-sm: filename=en_core_web_sm-2.1.0-py3-none-any.whl size=11074433 sha256=df63a7c9ecae022dc6bdf625c42f75be8a32a14753143601f99f4a9d6b07a8bf\n",
      "  Stored in directory: /tmp/pip-ephem-wheel-cache-_u2_daxo/wheels/57/3c/44/bac9773a437855dc01e9bf30fc2064610227be5e94a84cd680\n",
      "Successfully built en-core-web-sm\n",
      "Installing collected packages: en-core-web-sm\n",
      "Successfully installed en-core-web-sm-2.1.0\n",
      "\u001b[33mWARNING: You are using pip version 20.0.2; however, version 20.2.4 is available.\n",
      "You should consider upgrading via the '/home/ec2-user/anaconda3/envs/tensorflow_p36/bin/python3 -m pip install --upgrade pip' command.\u001b[0m\n",
      "\u001b[38;5;2m✔ Download and installation successful\u001b[0m\n",
      "You can now load the model via spacy.load('en_core_web_sm')\n",
      "\u001b[38;5;2m✔ Linking successful\u001b[0m\n",
      "/home/ec2-user/anaconda3/envs/tensorflow_p36/lib/python3.6/site-packages/en_core_web_sm\n",
      "-->\n",
      "/home/ec2-user/anaconda3/envs/tensorflow_p36/lib/python3.6/site-packages/spacy/data/en\n",
      "You can now load the model via spacy.load('en')\n",
      "Requirement already satisfied: scipy in /home/ec2-user/anaconda3/envs/tensorflow_p36/lib/python3.6/site-packages (1.4.1)\n",
      "Requirement already satisfied: numpy>=1.13.3 in /home/ec2-user/anaconda3/envs/tensorflow_p36/lib/python3.6/site-packages (from scipy) (1.18.1)\n",
      "\u001b[33mWARNING: You are using pip version 20.0.2; however, version 20.2.4 is available.\n",
      "You should consider upgrading via the '/home/ec2-user/anaconda3/envs/tensorflow_p36/bin/python -m pip install --upgrade pip' command.\u001b[0m\n"
     ]
    }
   ],
   "source": [
    "!pip install tensorflow==1.14.0 \n",
    "!pip install torch==1.4.0\n",
    "!pip install sentence-transformers==0.2.5.1\n",
    "!pip install transformers==2.6.0\n",
    "!pip install benepar==0.1.2\n",
    "!pip install summa\n",
    "!pip install nltk==3.4.5\n",
    "!pip install spacy==2.1.0\n",
    "!python3 -m spacy download en\n",
    "!pip install scipy"
   ]
  },
  {
   "cell_type": "markdown",
   "metadata": {},
   "source": [
    "## Imports"
   ]
  },
  {
   "cell_type": "code",
   "execution_count": 20,
   "metadata": {},
   "outputs": [
    {
     "name": "stderr",
     "output_type": "stream",
     "text": [
      "[nltk_data] Downloading package punkt to /home/ec2-user/nltk_data...\n",
      "[nltk_data]   Package punkt is already up-to-date!\n",
      "[nltk_data] Downloading package benepar_en2 to\n",
      "[nltk_data]     /home/ec2-user/nltk_data...\n",
      "[nltk_data]   Package benepar_en2 is already up-to-date!\n"
     ]
    },
    {
     "name": "stdout",
     "output_type": "stream",
     "text": [
      "WARNING:tensorflow:From /home/ec2-user/anaconda3/envs/tensorflow_p36/lib/python3.6/site-packages/benepar/base_parser.py:197: The name tf.GraphDef is deprecated. Please use tf.compat.v1.GraphDef instead.\n",
      "\n"
     ]
    },
    {
     "name": "stderr",
     "output_type": "stream",
     "text": [
      "WARNING:tensorflow:From /home/ec2-user/anaconda3/envs/tensorflow_p36/lib/python3.6/site-packages/benepar/base_parser.py:197: The name tf.GraphDef is deprecated. Please use tf.compat.v1.GraphDef instead.\n",
      "\n"
     ]
    },
    {
     "name": "stdout",
     "output_type": "stream",
     "text": [
      "WARNING:tensorflow:From /home/ec2-user/anaconda3/envs/tensorflow_p36/lib/python3.6/site-packages/benepar/base_parser.py:202: The name tf.Session is deprecated. Please use tf.compat.v1.Session instead.\n",
      "\n"
     ]
    },
    {
     "name": "stderr",
     "output_type": "stream",
     "text": [
      "WARNING:tensorflow:From /home/ec2-user/anaconda3/envs/tensorflow_p36/lib/python3.6/site-packages/benepar/base_parser.py:202: The name tf.Session is deprecated. Please use tf.compat.v1.Session instead.\n",
      "\n"
     ]
    }
   ],
   "source": [
    "import requests\n",
    "import json\n",
    "from summa.summarizer import summarize\n",
    "import benepar\n",
    "import string\n",
    "import nltk\n",
    "from nltk import tokenize\n",
    "from nltk.tokenize import sent_tokenize\n",
    "import re\n",
    "from random import shuffle\n",
    "import spacy\n",
    "nlp = spacy.load('en')\n",
    "#this package is required for the summa summarizer\n",
    "nltk.download('punkt')\n",
    "benepar.download('benepar_en2')\n",
    "benepar_parser = benepar.Parser(\"benepar_en2\")"
   ]
  },
  {
   "cell_type": "code",
   "execution_count": 29,
   "metadata": {},
   "outputs": [
    {
     "name": "stdout",
     "output_type": "stream",
     "text": [
      "The French Revolution was a watershed event in modern European history that began in 1789 and ended in the late 1790s with the ascent of Napoleon Bonaparte. During this period, French citizens razed and redesigned their country’s political landscape, uprooting centuries-old institutions such as absolute monarchy and the feudal system. The upheaval was caused by widespread discontent with the French monarchy and the poor economic policies of King Louis XVI, who met his death by guillotine, as did his wife Marie Antoinette. Although it failed to achieve all of its goals and at times degenerated into a chaotic bloodbath, the French Revolution played a critical role in shaping modern nations by showing the world the power inherent in the will of the people.\n",
      "\n",
      "Causes of the French Revolution\n",
      "As the 18th century drew to a close, France’s costly involvement in the American Revolution, and extravagant spending by King Louis XVI and his predecessor, had left the country on the brink of bankruptcy.\n",
      "\n",
      "Not only were the royal coffers depleted, but two decades of poor harvests, drought, cattle disease and skyrocketing bread prices had kindled unrest among peasants and the urban poor. Many expressed their desperation and resentment toward a regime that imposed heavy taxes—yet failed to provide any relief—by rioting, looting and striking.\n",
      "\n",
      "In the fall of 1786, Louis XVI’s controller general, Charles Alexandre de Calonne, proposed a financial reform package that included a universal land tax from which the privileged classes would no longer be exempt.\n",
      "\n",
      "\n",
      "To garner support for these measures and forestall a growing aristocratic revolt, the king summoned the Estates-General (les états généraux) – an assembly representing France’s clergy, nobility and middle class – for the first time since 1614.\n",
      "\n",
      "The meeting was scheduled for May 5, 1789; in the meantime, delegates of the three estates from each locality would compile lists of grievances (cahiers de doléances) to present to the king.\n",
      "\n",
      "READ MORE: How the American Revolution Influenced the French Revolution?\n",
      "\n",
      "Rise of the Third Estate\n",
      "France’s population had changed considerably since 1614. The non-aristocratic members of the Third Estate now represented 98 percent of the people but could still be outvoted by the other two bodies.\n",
      "\n",
      "In the lead-up to the May 5 meeting, the Third Estate began to mobilize support for equal representation and the abolishment of the noble veto—in other words, they wanted voting by head and not by status.\n",
      "\n",
      "While all of the orders shared a common desire for fiscal and judicial reform as well as a more representative form of government, the nobles in particular were loath to give up the privileges they enjoyed under the traditional system.\n",
      "\n",
      "Tennis Court Oath\n",
      "By the time the Estates-General convened at Versailles, the highly public debate over its voting process had erupted into hostility between the three orders, eclipsing the original purpose of the meeting and the authority of the man who had convened it.\n",
      "\n",
      "On June 17, with talks over procedure stalled, the Third Estate met alone and formally adopted the title of National Assembly; three days later, they met in a nearby indoor tennis court and took the so-called Tennis Court Oath (serment du jeu de paume), vowing not to disperse until constitutional reform had been achieved.\n",
      "\n",
      "Within a week, most of the clerical deputies and 47 liberal nobles had joined them, and on June 27 Louis XVI grudgingly absorbed all three orders into the new assembly.\n",
      "\n",
      "The Bastille and the Great Fear\n",
      "On June 12, as the National Assembly (known as the National Constituent Assembly during its work on a constitution) continued to meet at Versailles, fear and violence consumed the capital.\n",
      "\n",
      "Though enthusiastic about the recent breakdown of royal power, Parisians grew panicked as rumors of an impending military coup began to circulate. A popular insurgency culminated on July 14 when rioters stormed the Bastille fortress in an attempt to secure gunpowder and weapons; many consider this event, now commemorated in France as a national holiday, as the start of the French Revolution.\n",
      "\n",
      "The wave of revolutionary fervor and widespread hysteria quickly swept the countryside. Revolting against years of exploitation, peasants looted and burned the homes of tax collectors, landlords and the seigniorial elite.\n",
      "\n",
      "Known as the Great Fear (la Grande peur), the agrarian insurrection hastened the growing exodus of nobles from the country and inspired the National Constituent Assembly to abolish feudalism on August 4, 1789, signing what the historian Georges Lefebvre later called the “death certificate of the old order.”\n",
      "\n",
      "Declaration of the Rights of Man and of the Citizen\n",
      "On August 4, the Assembly adopted the Declaration of the Rights of Man and of the Citizen (Déclaration des droits de l’homme et du citoyen), a statement of democratic principles grounded in the philosophical and political ideas of Enlightenment thinkers like Jean-Jacques Rousseau.\n",
      "\n",
      "The document proclaimed the Assembly’s commitment to replace the ancien régime with a system based on equal opportunity, freedom of speech, popular sovereignty and representative government.\n",
      "\n",
      "Drafting a formal constitution proved much more of a challenge for the National Constituent Assembly, which had the added burden of functioning as a legislature during harsh economic times.\n",
      "\n",
      "For months, its members wrestled with fundamental questions about the shape and expanse of France’s new political landscape. For instance, who would be responsible for electing delegates? Would the clergy owe allegiance to the Roman Catholic Church or the French government? Perhaps most importantly, how much authority would the king, his public image further weakened after a failed attempt to flee the country in June 1791, retain?\n",
      "\n",
      "\n",
      "Adopted on September 3, 1791, France’s first written constitution echoed the more moderate voices in the Assembly, establishing a constitutional monarchy in which the king enjoyed royal veto power and the ability to appoint ministers. This compromise did not sit well with influential radicals like Maximilien de Robespierre, Camille Desmoulins and Georges Danton, who began drumming up popular support for a more republican form of government and for the trial of Louis XVI.\n",
      "\n",
      "\n"
     ]
    }
   ],
   "source": [
    "text = '''The French Revolution was a watershed event in modern European history that began in 1789 and ended in the late 1790s with the ascent of Napoleon Bonaparte. During this period, French citizens razed and redesigned their country’s political landscape, uprooting centuries-old institutions such as absolute monarchy and the feudal system. The upheaval was caused by widespread discontent with the French monarchy and the poor economic policies of King Louis XVI, who met his death by guillotine, as did his wife Marie Antoinette. Although it failed to achieve all of its goals and at times degenerated into a chaotic bloodbath, the French Revolution played a critical role in shaping modern nations by showing the world the power inherent in the will of the people.\n",
    "\n",
    "Causes of the French Revolution\n",
    "As the 18th century drew to a close, France’s costly involvement in the American Revolution, and extravagant spending by King Louis XVI and his predecessor, had left the country on the brink of bankruptcy.\n",
    "\n",
    "Not only were the royal coffers depleted, but two decades of poor harvests, drought, cattle disease and skyrocketing bread prices had kindled unrest among peasants and the urban poor. Many expressed their desperation and resentment toward a regime that imposed heavy taxes—yet failed to provide any relief—by rioting, looting and striking.\n",
    "\n",
    "In the fall of 1786, Louis XVI’s controller general, Charles Alexandre de Calonne, proposed a financial reform package that included a universal land tax from which the privileged classes would no longer be exempt.\n",
    "\n",
    "\n",
    "To garner support for these measures and forestall a growing aristocratic revolt, the king summoned the Estates-General (les états généraux) – an assembly representing France’s clergy, nobility and middle class – for the first time since 1614.\n",
    "\n",
    "The meeting was scheduled for May 5, 1789; in the meantime, delegates of the three estates from each locality would compile lists of grievances (cahiers de doléances) to present to the king.\n",
    "\n",
    "READ MORE: How the American Revolution Influenced the French Revolution?\n",
    "\n",
    "Rise of the Third Estate\n",
    "France’s population had changed considerably since 1614. The non-aristocratic members of the Third Estate now represented 98 percent of the people but could still be outvoted by the other two bodies.\n",
    "\n",
    "In the lead-up to the May 5 meeting, the Third Estate began to mobilize support for equal representation and the abolishment of the noble veto—in other words, they wanted voting by head and not by status.\n",
    "\n",
    "While all of the orders shared a common desire for fiscal and judicial reform as well as a more representative form of government, the nobles in particular were loath to give up the privileges they enjoyed under the traditional system.\n",
    "\n",
    "Tennis Court Oath\n",
    "By the time the Estates-General convened at Versailles, the highly public debate over its voting process had erupted into hostility between the three orders, eclipsing the original purpose of the meeting and the authority of the man who had convened it.\n",
    "\n",
    "On June 17, with talks over procedure stalled, the Third Estate met alone and formally adopted the title of National Assembly; three days later, they met in a nearby indoor tennis court and took the so-called Tennis Court Oath (serment du jeu de paume), vowing not to disperse until constitutional reform had been achieved.\n",
    "\n",
    "Within a week, most of the clerical deputies and 47 liberal nobles had joined them, and on June 27 Louis XVI grudgingly absorbed all three orders into the new assembly.\n",
    "\n",
    "The Bastille and the Great Fear\n",
    "On June 12, as the National Assembly (known as the National Constituent Assembly during its work on a constitution) continued to meet at Versailles, fear and violence consumed the capital.\n",
    "\n",
    "Though enthusiastic about the recent breakdown of royal power, Parisians grew panicked as rumors of an impending military coup began to circulate. A popular insurgency culminated on July 14 when rioters stormed the Bastille fortress in an attempt to secure gunpowder and weapons; many consider this event, now commemorated in France as a national holiday, as the start of the French Revolution.\n",
    "\n",
    "The wave of revolutionary fervor and widespread hysteria quickly swept the countryside. Revolting against years of exploitation, peasants looted and burned the homes of tax collectors, landlords and the seigniorial elite.\n",
    "\n",
    "Known as the Great Fear (la Grande peur), the agrarian insurrection hastened the growing exodus of nobles from the country and inspired the National Constituent Assembly to abolish feudalism on August 4, 1789, signing what the historian Georges Lefebvre later called the “death certificate of the old order.”\n",
    "\n",
    "Declaration of the Rights of Man and of the Citizen\n",
    "On August 4, the Assembly adopted the Declaration of the Rights of Man and of the Citizen (Déclaration des droits de l’homme et du citoyen), a statement of democratic principles grounded in the philosophical and political ideas of Enlightenment thinkers like Jean-Jacques Rousseau.\n",
    "\n",
    "The document proclaimed the Assembly’s commitment to replace the ancien régime with a system based on equal opportunity, freedom of speech, popular sovereignty and representative government.\n",
    "\n",
    "Drafting a formal constitution proved much more of a challenge for the National Constituent Assembly, which had the added burden of functioning as a legislature during harsh economic times.\n",
    "\n",
    "For months, its members wrestled with fundamental questions about the shape and expanse of France’s new political landscape. For instance, who would be responsible for electing delegates? Would the clergy owe allegiance to the Roman Catholic Church or the French government? Perhaps most importantly, how much authority would the king, his public image further weakened after a failed attempt to flee the country in June 1791, retain?\n",
    "\n",
    "\n",
    "Adopted on September 3, 1791, France’s first written constitution echoed the more moderate voices in the Assembly, establishing a constitutional monarchy in which the king enjoyed royal veto power and the ability to appoint ministers. This compromise did not sit well with influential radicals like Maximilien de Robespierre, Camille Desmoulins and Georges Danton, who began drumming up popular support for a more republican form of government and for the trial of Louis XVI.\n",
    "\n",
    "'''\n",
    "print(text)"
   ]
  },
  {
   "cell_type": "markdown",
   "metadata": {},
   "source": [
    "## Summarize the loaded content."
   ]
  },
  {
   "cell_type": "code",
   "execution_count": 26,
   "metadata": {},
   "outputs": [
    {
     "name": "stdout",
     "output_type": "stream",
     "text": [
      "On June 17, with talks over procedure stalled, the Third Estate met alone and formally adopted the title of National Assembly\n",
      "\n",
      "\n",
      "A popular insurgency culminated on July 14 when rioters stormed the Bastille fortress in an attempt to secure gunpowder and weapons\n",
      "\n",
      "\n"
     ]
    }
   ],
   "source": [
    "from string import punctuation\n",
    "\n",
    "def preprocess(sentences):\n",
    "    output = []\n",
    "    for sent in sentences:\n",
    "        single_quotes_present = len(re.findall(r\"['][\\w\\s.:;,!?\\\\-]+[']\",sent))>0\n",
    "        double_quotes_present = len(re.findall(r'[\"][\\w\\s.:;,!?\\\\-]+[\"]',sent))>0\n",
    "        question_present = \"?\" in sent\n",
    "        if single_quotes_present or double_quotes_present or question_present :\n",
    "            continue\n",
    "        else:\n",
    "            output.append(sent.strip(punctuation))\n",
    "    return output\n",
    "        \n",
    "        \n",
    "def get_candidate_sents(resolved_text, ratio=0.3):\n",
    "    candidate_sents = summarize(resolved_text, ratio=ratio)\n",
    "    candidate_sents_list = tokenize.sent_tokenize(candidate_sents)\n",
    "    candidate_sents_list = [re.split(r'[:;]+',x)[0] for x in candidate_sents_list ]\n",
    "    # Remove very short sentences less than 30 characters and long sentences greater than 150 characters\n",
    "    filtered_list_short_sentences = [sent for sent in candidate_sents_list if len(sent)>30 and len(sent)<150]\n",
    "    return filtered_list_short_sentences\n",
    "\n",
    "cand_sents = get_candidate_sents(text)\n",
    "filter_quotes_and_questions = preprocess(cand_sents)\n",
    "for each_sentence in filter_quotes_and_questions:\n",
    "    print (each_sentence)\n",
    "    print (\"\\n\")"
   ]
  },
  {
   "cell_type": "markdown",
   "metadata": {},
   "source": [
    "## Split sentence at appropriate place with Berkley Constituency parser."
   ]
  },
  {
   "cell_type": "code",
   "execution_count": 27,
   "metadata": {},
   "outputs": [
    {
     "name": "stdout",
     "output_type": "stream",
     "text": [
      "{'On June 17, with talks over procedure stalled, the Third Estate met alone and formally adopted the title of National Assembly': ['On June 17, with talks over procedure stalled, the Third Estate met alone and formally adopted the title of'], 'A popular insurgency culminated on July 14 when rioters stormed the Bastille fortress in an attempt to secure gunpowder and weapons': ['A popular insurgency culminated on July 14 when rioters stormed the Bastille fortress in an attempt to secure', 'A popular insurgency culminated on July 14 when rioters stormed the Bastille fortress in an attempt to']}\n"
     ]
    }
   ],
   "source": [
    "\n",
    "from IPython.display import Markdown, display\n",
    "def printmd(string):\n",
    "    display(Markdown(string))\n",
    "    \n",
    "def get_flattened(t):\n",
    "    sent_str_final = None\n",
    "    if t is not None:\n",
    "        sent_str = [\" \".join(x.leaves()) for x in list(t)]\n",
    "        sent_str_final = [\" \".join(sent_str)]\n",
    "        sent_str_final = sent_str_final[0]\n",
    "    return sent_str_final\n",
    "    \n",
    "\n",
    "def get_termination_portion(main_string,sub_string):\n",
    "    combined_sub_string = sub_string.replace(\" \",\"\")\n",
    "    main_string_list = main_string.split()\n",
    "    last_index = len(main_string_list)\n",
    "    for i in range(last_index):\n",
    "        check_string_list = main_string_list[i:]\n",
    "        check_string = \"\".join(check_string_list)\n",
    "        check_string = check_string.replace(\" \",\"\")\n",
    "        if check_string == combined_sub_string:\n",
    "            return \" \".join(main_string_list[:i])\n",
    "                     \n",
    "    return None\n",
    "    \n",
    "def get_right_most_VP_or_NP(parse_tree,last_NP = None,last_VP = None):\n",
    "    if len(parse_tree.leaves()) == 1:\n",
    "        return get_flattened(last_NP),get_flattened(last_VP)\n",
    "    last_subtree = parse_tree[-1]\n",
    "    if last_subtree.label() == \"NP\":\n",
    "        last_NP = last_subtree\n",
    "    elif last_subtree.label() == \"VP\":\n",
    "        last_VP = last_subtree\n",
    "    \n",
    "    return get_right_most_VP_or_NP(last_subtree,last_NP,last_VP)\n",
    "\n",
    "\n",
    "def get_sentence_completions(key_sentences):\n",
    "    sentence_completion_dict = {}\n",
    "    for individual_sentence in filter_quotes_and_questions:\n",
    "        sentence = individual_sentence.rstrip('?:!.,;')\n",
    "        tree = benepar_parser.parse(sentence)\n",
    "        last_nounphrase, last_verbphrase =  get_right_most_VP_or_NP(tree)\n",
    "        phrases= []\n",
    "        if last_verbphrase is not None:\n",
    "            verbphrase_string = get_termination_portion(sentence,last_verbphrase)\n",
    "            phrases.append(verbphrase_string)\n",
    "        if last_nounphrase is not None:\n",
    "            nounphrase_string = get_termination_portion(sentence,last_nounphrase)\n",
    "            phrases.append(nounphrase_string)\n",
    "\n",
    "        longest_phrase =  sorted(phrases, key=len,reverse= True)\n",
    "        if len(longest_phrase) == 2:\n",
    "            first_sent_len = len(longest_phrase[0].split())\n",
    "            second_sentence_len = len(longest_phrase[1].split())\n",
    "            if (first_sent_len - second_sentence_len) > 4:\n",
    "                del longest_phrase[1]\n",
    "                \n",
    "        if len(longest_phrase)>0:\n",
    "            sentence_completion_dict[sentence]=longest_phrase\n",
    "    return sentence_completion_dict\n",
    "\n",
    "\n",
    "\n",
    "sent_completion_dict = get_sentence_completions(filter_quotes_and_questions)\n",
    "\n",
    "print (sent_completion_dict)\n",
    "\n",
    "\n",
    "    "
   ]
  },
  {
   "cell_type": "markdown",
   "metadata": {},
   "source": [
    "## Load OpenAI GPT2 and Sentence BERT."
   ]
  },
  {
   "cell_type": "code",
   "execution_count": 14,
   "metadata": {},
   "outputs": [
    {
     "data": {
      "application/vnd.jupyter.widget-view+json": {
       "model_id": "df48441fff2d45fd8f98d995bdb730e3",
       "version_major": 2,
       "version_minor": 0
      },
      "text/plain": [
       "HBox(children=(FloatProgress(value=0.0, description='Downloading', max=548118077.0, style=ProgressStyle(descri…"
      ]
     },
     "metadata": {},
     "output_type": "display_data"
    },
    {
     "name": "stdout",
     "output_type": "stream",
     "text": [
      "\n"
     ]
    }
   ],
   "source": [
    "# https://huggingface.co/transformers/main_classes/model.html?highlight=no_repeat_ngram_size\n",
    "\n",
    "from transformers import GPT2LMHeadModel, GPT2Tokenizer\n",
    "tokenizer = GPT2Tokenizer.from_pretrained(\"gpt2\")\n",
    "\n",
    "# add the EOS token as PAD token to avoid warnings\n",
    "model = GPT2LMHeadModel.from_pretrained(\"gpt2\",pad_token_id=tokenizer.eos_token_id)\n",
    "\n",
    "from sentence_transformers import SentenceTransformer\n",
    "# Load the BERT model. Various models trained on Natural Language Inference (NLI) https://github.com/UKPLab/sentence-transformers/blob/master/docs/pretrained-models/nli-models.md and \n",
    "# Semantic Textual Similarity are available https://github.com/UKPLab/sentence-transformers/blob/master/docs/pretrained-models/sts-models.md\n",
    "model_BERT = SentenceTransformer('bert-base-nli-mean-tokens')"
   ]
  },
  {
   "cell_type": "markdown",
   "metadata": {},
   "source": [
    "## Filter sentences and generate false sentences."
   ]
  },
  {
   "cell_type": "code",
   "execution_count": 28,
   "metadata": {},
   "outputs": [
    {
     "data": {
      "text/markdown": [
       "**1) True Sentence (from the story) :**"
      ],
      "text/plain": [
       "<IPython.core.display.Markdown object>"
      ]
     },
     "metadata": {},
     "output_type": "display_data"
    },
    {
     "name": "stdout",
     "output_type": "stream",
     "text": [
      "   On June 17, with talks over procedure stalled, the Third Estate met alone and formally adopted the title of National Assembly\n"
     ]
    },
    {
     "data": {
      "text/markdown": [
       "  **False Sentences (GPT-2 Generated)**"
      ],
      "text/plain": [
       "<IPython.core.display.Markdown object>"
      ]
     },
     "metadata": {},
     "output_type": "display_data"
    },
    {
     "data": {
      "text/markdown": [
       "**a)** On June 17, with talks over procedure stalled, the Third Estate met alone and formally adopted the title of owner to a land on Long Island's Central Shore in order not to allow new owners."
      ],
      "text/plain": [
       "<IPython.core.display.Markdown object>"
      ]
     },
     "metadata": {},
     "output_type": "display_data"
    },
    {
     "data": {
      "text/markdown": [
       "**b)** On June 17, with talks over procedure stalled, the Third Estate met alone and formally adopted the title of its own \"Hospital for International Development (International) Ltd. – The National Hospital - São Paulo City\"."
      ],
      "text/plain": [
       "<IPython.core.display.Markdown object>"
      ]
     },
     "metadata": {},
     "output_type": "display_data"
    },
    {
     "name": "stdout",
     "output_type": "stream",
     "text": [
      "\n",
      "\n",
      "\n"
     ]
    },
    {
     "data": {
      "text/markdown": [
       "**2) True Sentence (from the story) :**"
      ],
      "text/plain": [
       "<IPython.core.display.Markdown object>"
      ]
     },
     "metadata": {},
     "output_type": "display_data"
    },
    {
     "name": "stdout",
     "output_type": "stream",
     "text": [
      "   A popular insurgency culminated on July 14 when rioters stormed the Bastille fortress in an attempt to secure gunpowder and weapons\n"
     ]
    },
    {
     "data": {
      "text/markdown": [
       "  **False Sentences (GPT-2 Generated)**"
      ],
      "text/plain": [
       "<IPython.core.display.Markdown object>"
      ]
     },
     "metadata": {},
     "output_type": "display_data"
    },
    {
     "data": {
      "text/markdown": [
       "**a)** A popular insurgency culminated on July 14 when rioters stormed the Bastille fortress in an attempt to secure its return for a few days."
      ],
      "text/plain": [
       "<IPython.core.display.Markdown object>"
      ]
     },
     "metadata": {},
     "output_type": "display_data"
    },
    {
     "data": {
      "text/markdown": [
       "**b)** A popular insurgency culminated on July 14 when rioters stormed the Bastille fortress in an attempt to secure a military base with air power for Syria's only major ally, Iran."
      ],
      "text/plain": [
       "<IPython.core.display.Markdown object>"
      ]
     },
     "metadata": {},
     "output_type": "display_data"
    },
    {
     "data": {
      "text/markdown": [
       "**c)** A popular insurgency culminated on July 14 when rioters stormed the Bastille fortress in an attempt to secure a victory for President François Hollande, but were quickly repelled by troops and armored vehicles."
      ],
      "text/plain": [
       "<IPython.core.display.Markdown object>"
      ]
     },
     "metadata": {},
     "output_type": "display_data"
    },
    {
     "data": {
      "text/markdown": [
       "**d)** A popular insurgency culminated on July 14 when rioters stormed the Bastille fortress in an attempt to seize control of a provincial airport."
      ],
      "text/plain": [
       "<IPython.core.display.Markdown object>"
      ]
     },
     "metadata": {},
     "output_type": "display_data"
    },
    {
     "data": {
      "text/markdown": [
       "**e)** A popular insurgency culminated on July 14 when rioters stormed the Bastille fortress in an attempt to kill French President Francois Hollande, but were unsuccessful."
      ],
      "text/plain": [
       "<IPython.core.display.Markdown object>"
      ]
     },
     "metadata": {},
     "output_type": "display_data"
    },
    {
     "data": {
      "text/markdown": [
       "**f)** A popular insurgency culminated on July 14 when rioters stormed the Bastille fortress in an attempt to stop French and Austrian troops from advancing into eastern Mali."
      ],
      "text/plain": [
       "<IPython.core.display.Markdown object>"
      ]
     },
     "metadata": {},
     "output_type": "display_data"
    },
    {
     "name": "stdout",
     "output_type": "stream",
     "text": [
      "\n",
      "\n",
      "\n"
     ]
    }
   ],
   "source": [
    "from nltk import tokenize\n",
    "import scipy\n",
    "torch.manual_seed(2020)\n",
    "\n",
    "\n",
    "def sort_by_similarity(original_sentence,generated_sentences_list):\n",
    "    # Each sentence is encoded as a 1-D vector with 768 columns\n",
    "    sentence_embeddings = model_BERT.encode(generated_sentences_list)\n",
    "\n",
    "    queries = [original_sentence]\n",
    "    query_embeddings = model_BERT.encode(queries)\n",
    "    # Find the top sentences of the corpus for each query sentence based on cosine similarity\n",
    "    number_top_matches = len(generated_sentences_list)\n",
    "\n",
    "    dissimilar_sentences = []\n",
    "\n",
    "    for query, query_embedding in zip(queries, query_embeddings):\n",
    "        distances = scipy.spatial.distance.cdist([query_embedding], sentence_embeddings, \"cosine\")[0]\n",
    "\n",
    "        results = zip(range(len(distances)), distances)\n",
    "        results = sorted(results, key=lambda x: x[1])\n",
    "\n",
    "\n",
    "        for idx, distance in reversed(results[0:number_top_matches]):\n",
    "            score = 1-distance\n",
    "            if score < 0.9:\n",
    "                dissimilar_sentences.append(generated_sentences_list[idx].strip())\n",
    "           \n",
    "    sorted_dissimilar_sentences = sorted(dissimilar_sentences, key=len)\n",
    "    \n",
    "    return sorted_dissimilar_sentences[:3]\n",
    "    \n",
    "\n",
    "def generate_sentences(partial_sentence,full_sentence):\n",
    "    input_ids = torch.tensor([tokenizer.encode(partial_sentence)])\n",
    "    maximum_length = len(partial_sentence.split())+80\n",
    "\n",
    "    # Actiavte top_k sampling and top_p sampling with only from 90% most likely words\n",
    "    sample_outputs = model.generate(\n",
    "        input_ids, \n",
    "        do_sample=True, \n",
    "        max_length=maximum_length, \n",
    "        top_p=0.90, # 0.85 \n",
    "        top_k=50,   #0.30\n",
    "        repetition_penalty  = 10.0,\n",
    "        num_return_sequences=10\n",
    "    )\n",
    "    generated_sentences=[]\n",
    "    for i, sample_output in enumerate(sample_outputs):\n",
    "        decoded_sentences = tokenizer.decode(sample_output, skip_special_tokens=True)\n",
    "        decoded_sentences_list = tokenize.sent_tokenize(decoded_sentences)\n",
    "        generated_sentences.append(decoded_sentences_list[0])\n",
    "        \n",
    "    top_3_sentences = sort_by_similarity(full_sentence,generated_sentences)\n",
    "    \n",
    "    return top_3_sentences\n",
    "\n",
    "index = 1\n",
    "choice_list = [\"a)\",\"b)\",\"c)\",\"d)\",\"e)\",\"f)\"]\n",
    "for key_sentence in sent_completion_dict:\n",
    "    partial_sentences = sent_completion_dict[key_sentence]\n",
    "    false_sentences =[]\n",
    "    print_string = \"**%s) True Sentence (from the story) :**\"%(str(index))\n",
    "    printmd(print_string)\n",
    "    print (\"  \",key_sentence)\n",
    "    for partial_sent in partial_sentences:\n",
    "        false_sents = generate_sentences(partial_sent,key_sentence)\n",
    "        false_sentences.extend(false_sents)\n",
    "    printmd(\"  **False Sentences (GPT-2 Generated)**\")\n",
    "    for ind,false_sent in enumerate(false_sentences):\n",
    "        print_string_choices = \"**%s** %s\"%(choice_list[ind],false_sent)\n",
    "        printmd(print_string_choices)\n",
    "    index = index+1\n",
    "    \n",
    "    print (\"\\n\\n\")"
   ]
  },
  {
   "cell_type": "code",
   "execution_count": null,
   "metadata": {},
   "outputs": [],
   "source": []
  }
 ],
 "metadata": {
  "kernelspec": {
   "display_name": "conda_tensorflow_p36",
   "language": "python",
   "name": "conda_tensorflow_p36"
  },
  "language_info": {
   "codemirror_mode": {
    "name": "ipython",
    "version": 3
   },
   "file_extension": ".py",
   "mimetype": "text/x-python",
   "name": "python",
   "nbconvert_exporter": "python",
   "pygments_lexer": "ipython3",
   "version": "3.6.10"
  }
 },
 "nbformat": 4,
 "nbformat_minor": 4
}
